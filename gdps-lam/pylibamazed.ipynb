{
 "cells": [
  {
   "cell_type": "code",
   "execution_count": null,
   "metadata": {},
   "outputs": [],
   "source": [
    "#!pip install git+ssh://git@github.com/ejoliet/roman-gdps-lam/tree/master/pyamazed#egg=pyamazed "
   ]
  },
  {
   "cell_type": "code",
   "execution_count": 9,
   "metadata": {},
   "outputs": [
    {
     "name": "stdout",
     "output_type": "stream",
     "text": [
      "Looking in indexes: https://pypi.org/simple, http://192.168.1.12:9095/simple/\n",
      "Collecting pylibamazed\n",
      "  Downloading http://192.168.1.12:9095/packages/pylibamazed-0.20.1.tar.gz (20 kB)\n",
      "\u001b[31m    ERROR: Command errored out with exit status 1:\n",
      "     command: /Users/ejoliet/miniconda3/bin/python -c 'import sys, setuptools, tokenize; sys.argv[0] = '\"'\"'/private/var/folders/ft/6rzrn23n4bs1jr2sv1cm2f4h0005hp/T/pip-install-5dizxa4w/pylibamazed/setup.py'\"'\"'; __file__='\"'\"'/private/var/folders/ft/6rzrn23n4bs1jr2sv1cm2f4h0005hp/T/pip-install-5dizxa4w/pylibamazed/setup.py'\"'\"';f=getattr(tokenize, '\"'\"'open'\"'\"', open)(__file__);code=f.read().replace('\"'\"'\\r\\n'\"'\"', '\"'\"'\\n'\"'\"');f.close();exec(compile(code, __file__, '\"'\"'exec'\"'\"'))' egg_info --egg-base /private/var/folders/ft/6rzrn23n4bs1jr2sv1cm2f4h0005hp/T/pip-pip-egg-info-ywgpg17f\n",
      "         cwd: /private/var/folders/ft/6rzrn23n4bs1jr2sv1cm2f4h0005hp/T/pip-install-5dizxa4w/pylibamazed/\n",
      "    Complete output (5 lines):\n",
      "    Traceback (most recent call last):\n",
      "      File \"<string>\", line 1, in <module>\n",
      "      File \"/private/var/folders/ft/6rzrn23n4bs1jr2sv1cm2f4h0005hp/T/pip-install-5dizxa4w/pylibamazed/setup.py\", line 4, in <module>\n",
      "        from swig_ext import swig_ext\n",
      "    ModuleNotFoundError: No module named 'swig_ext'\n",
      "    ----------------------------------------\u001b[0m\n",
      "\u001b[31mERROR: Command errored out with exit status 1: python setup.py egg_info Check the logs for full command output.\u001b[0m\n",
      "\u001b[33mWARNING: You are using pip version 20.2.3; however, version 21.1.3 is available.\n",
      "You should consider upgrading via the '/Users/ejoliet/miniconda3/bin/python -m pip install --upgrade pip' command.\u001b[0m\n"
     ]
    }
   ],
   "source": [
    "!pip install --extra-index-url http://192.168.1.12:9095/simple/ --trusted-host 192.168.1.12 pylibamazed"
   ]
  },
  {
   "cell_type": "code",
   "execution_count": 10,
   "metadata": {},
   "outputs": [
    {
     "name": "stdout",
     "output_type": "stream",
     "text": [
      "Requirement already satisfied: firefly_client in /Users/ejoliet/devspace/branch/dev/firefly_client (2.6.0)\n",
      "Requirement already satisfied: websocket-client in /Users/ejoliet/miniconda3/lib/python3.7/site-packages (from firefly_client) (1.1.0)\n",
      "Requirement already satisfied: requests in /Users/ejoliet/.local/lib/python3.7/site-packages (from firefly_client) (2.25.1)\n",
      "Requirement already satisfied: certifi>=2017.4.17 in /Users/ejoliet/miniconda3/lib/python3.7/site-packages (from requests->firefly_client) (2020.6.20)\n",
      "Requirement already satisfied: urllib3<1.27,>=1.21.1 in /Users/ejoliet/miniconda3/lib/python3.7/site-packages (from requests->firefly_client) (1.23)\n",
      "Requirement already satisfied: idna<3,>=2.5 in /Users/ejoliet/miniconda3/lib/python3.7/site-packages (from requests->firefly_client) (2.7)\n",
      "Requirement already satisfied: chardet<5,>=3.0.2 in /Users/ejoliet/miniconda3/lib/python3.7/site-packages (from requests->firefly_client) (3.0.4)\n",
      "\u001b[33mWARNING: You are using pip version 20.2.3; however, version 21.1.3 is available.\n",
      "You should consider upgrading via the '/Users/ejoliet/miniconda3/bin/python -m pip install --upgrade pip' command.\u001b[0m\n"
     ]
    }
   ],
   "source": [
    "!pip install firefly_client"
   ]
  },
  {
   "cell_type": "code",
   "execution_count": null,
   "metadata": {},
   "outputs": [],
   "source": []
  }
 ],
 "metadata": {
  "kernelspec": {
   "display_name": "Python 3",
   "language": "python",
   "name": "python3"
  },
  "language_info": {
   "codemirror_mode": {
    "name": "ipython",
    "version": 3
   },
   "file_extension": ".py",
   "mimetype": "text/x-python",
   "name": "python",
   "nbconvert_exporter": "python",
   "pygments_lexer": "ipython3",
   "version": "3.7.2"
  }
 },
 "nbformat": 4,
 "nbformat_minor": 2
}

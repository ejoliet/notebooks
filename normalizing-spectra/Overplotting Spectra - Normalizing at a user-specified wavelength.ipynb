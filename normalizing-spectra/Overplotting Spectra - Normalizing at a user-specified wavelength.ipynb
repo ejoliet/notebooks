{
 "cells": [
  {
   "cell_type": "markdown",
   "id": "1eca57f7",
   "metadata": {},
   "source": [
    "# Overplotting multiple spectra that have been normalized at a user-provided wavelength / frequency / wave number"
   ]
  },
  {
   "cell_type": "markdown",
   "id": "d31cf1c8",
   "metadata": {},
   "source": [
    "# 1. Read in multiple spectra."
   ]
  },
  {
   "cell_type": "code",
   "execution_count": 205,
   "id": "fb5f9780",
   "metadata": {},
   "outputs": [],
   "source": [
    "#Install packages we need\n",
    "!pip install astropy\n",
    "!pip install scipy\n",
    "!pip install matplotlib\n",
    "from astropy.io.votable import parse_single_table\n",
    "\n",
    "dir = \"\" #\"/Users/vandanadesai/IPAC/IRSA/Firefly/spectral_data_model/\"\n",
    "file1 = dir+\"1342235804_averageSpectrumWML_7b_1897_2016-03-10T18-46-38UTC.votable\"\n",
    "file2 = dir+\"F0291_EX_SPE_04012012_EXEELONEXEECHL_CMB_0040-0043.votable\"\n",
    "file3 = dir+\"HD_143006.votable\"\n",
    "file4 = dir+\"SPITZER_S0_25343744_0001_3_E7173899_tune.votable\"\n",
    "file5 = dir+\"SPITZER_S3_3757824_0013_12_E7212632_tune.votable\"\n",
    "\n",
    "spectrum1 = parse_single_table(file1)\n",
    "spectrum2 = parse_single_table(file2)\n",
    "spectrum3 = parse_single_table(file3)\n",
    "spectrum4 = parse_single_table(file4)\n",
    "spectrum5 = parse_single_table(file5)"
   ]
  },
  {
   "cell_type": "markdown",
   "id": "78f9f20f",
   "metadata": {},
   "source": [
    "## 2. Ask the user for the wavelength they want to normalize at."
   ]
  },
  {
   "cell_type": "code",
   "execution_count": 206,
   "id": "60f2e645",
   "metadata": {},
   "outputs": [],
   "source": [
    "normalization_value = 24.\n",
    "normalization_ucd = \"em.wl\"\n",
    "normalization_unit = \"micron\""
   ]
  },
  {
   "cell_type": "markdown",
   "id": "dbf56748",
   "metadata": {},
   "source": [
    "## 3. For each spectrum, identify the field with utype = \"spec:Spectrum.Data.SpectralAxis.Value\" and determine the corresponding ucd and units."
   ]
  },
  {
   "cell_type": "code",
   "execution_count": 149,
   "id": "6c4f395a",
   "metadata": {},
   "outputs": [
    {
     "name": "stdout",
     "output_type": "stream",
     "text": [
      "em.freq\n",
      "GHz\n",
      " \n",
      "em.wavenumber\n",
      "cm**(-1)\n",
      " \n",
      "em.wl\n",
      "um\n",
      " \n",
      "em.wl\n",
      "um\n",
      " \n",
      "em.wl\n",
      "um\n",
      " \n"
     ]
    }
   ],
   "source": [
    "for field in spectrum1.fields:\n",
    "    if field.utype == \"spec:Spectrum.Data.SpectralAxis.Value\":\n",
    "        ucd1 = field.ucd\n",
    "        unit1 = field.unit\n",
    "        print(ucd1)\n",
    "        print(unit1)\n",
    "        print(\" \")\n",
    "        \n",
    "for field in spectrum2.fields:\n",
    "    if field.utype == \"spec:Spectrum.Data.SpectralAxis.Value\":\n",
    "        ucd2 = field.ucd\n",
    "        unit2 = field.unit\n",
    "        print(ucd2)\n",
    "        print(unit2)\n",
    "        print(\" \")\n",
    "        \n",
    "for field in spectrum3.fields:\n",
    "    if field.utype == \"spec:Spectrum.Data.SpectralAxis.Value\":\n",
    "        ucd3 = field.ucd\n",
    "        unit3 = field.unit\n",
    "        print(ucd3)\n",
    "        print(unit3)\n",
    "        print(\" \")\n",
    "        \n",
    "for field in spectrum4.fields:\n",
    "    if field.utype == \"spec:Spectrum.Data.SpectralAxis.Value\":\n",
    "        ucd4 = field.ucd\n",
    "        unit4 = field.unit\n",
    "        print(ucd4)\n",
    "        print(unit4)\n",
    "        print(\" \")\n",
    "        \n",
    "for field in spectrum5.fields:\n",
    "    if field.utype == \"spec:Spectrum.Data.SpectralAxis.Value\":\n",
    "        ucd5 = field.ucd\n",
    "        unit5 = field.unit\n",
    "        print(ucd5)\n",
    "        print(unit5)\n",
    "        print(\" \")"
   ]
  },
  {
   "cell_type": "markdown",
   "id": "6aa7f9f7",
   "metadata": {},
   "source": [
    "## 4. For any spectra that do not share units with the user-entered normalized spectra, change the utype and units and array values. Leave the other spectra alone."
   ]
  },
  {
   "cell_type": "code",
   "execution_count": 150,
   "id": "85838f87",
   "metadata": {},
   "outputs": [
    {
     "name": "stdout",
     "output_type": "stream",
     "text": [
      "spectrum 1\n",
      "old ucd: em.freq\n",
      "old unit:  GHz\n",
      "old x axis: \n",
      "[1892.4999999999998 1892.5004999999996 1892.5009999999997 ...\n",
      " 1895.0514999999998 1895.0519999999997 1895.0524999999998]\n",
      " \n",
      "new ucd: em.wl\n",
      "new unit:  micron\n",
      "new x axis: \n",
      "[158.41081003963012 158.41076818737963 158.41072633515122 ...\n",
      " 158.1975255026051 158.19748376297855 158.19744202337404]\n",
      " \n",
      "spectrum 2\n",
      "old ucd: em.wavenumber\n",
      "old unit:  cm**(-1)\n",
      "old x axis: \n",
      "[1491.2906494140625 1491.29248046875 1491.2943115234375 ... -- -- --]\n",
      " \n",
      "new ucd: em.wl\n",
      "new unit:  micron\n",
      "new x axis: \n",
      "[201.02885920849187 201.02861237908732 201.0283655502889 ... -- -- --]\n",
      " \n"
     ]
    }
   ],
   "source": [
    "spectrum1_toplot = spectrum1\n",
    "spectrum2_toplot = spectrum2\n",
    "spectrum3_toplot = spectrum3\n",
    "spectrum4_toplot = spectrum4\n",
    "spectrum5_toplot = spectrum5\n",
    "\n",
    "for field in spectrum1_toplot.fields:\n",
    "    if field.utype == \"spec:Spectrum.Data.SpectralAxis.Value\":\n",
    "        print(\"spectrum 1\")\n",
    "        print(\"old ucd: \"+ field.ucd)\n",
    "        print(\"old unit: \", field.unit)\n",
    "        print(\"old x axis: \")\n",
    "        print(spectrum1.array[field.name])\n",
    "        print(\" \")\n",
    "        \n",
    "        spectrum1_toplot.fields.ucd = normalization_ucd\n",
    "        spectrum1_toplot.fields.unit = normalization_unit\n",
    "        spectrum1_toplot.array[field.name] =  299792.458 / spectrum1.array[field.name]\n",
    "        \n",
    "        print(\"new ucd: \"+ spectrum1_toplot.fields.ucd)\n",
    "        print(\"new unit: \", spectrum1_toplot.fields.unit)\n",
    "        print(\"new x axis: \")\n",
    "        print(spectrum1_toplot.array[field.name])\n",
    "        print(\" \")\n",
    "\n",
    "        \n",
    "for field in spectrum2_toplot.fields:\n",
    "    if field.utype == \"spec:Spectrum.Data.SpectralAxis.Value\":\n",
    "        print(\"spectrum 2\")\n",
    "        print(\"old ucd: \"+ field.ucd)\n",
    "        print(\"old unit: \", field.unit)\n",
    "        print(\"old x axis: \")\n",
    "        print(spectrum2.array[field.name])\n",
    "        print(\" \")\n",
    "        \n",
    "        spectrum2_toplot.fields.ucd = normalization_ucd\n",
    "        spectrum2_toplot.fields.unit = normalization_unit\n",
    "        spectrum2_toplot.array[field.name] =  299792.458 / spectrum2.array[field.name]\n",
    "        \n",
    "        print(\"new ucd: \"+ spectrum2_toplot.fields.ucd)\n",
    "        print(\"new unit: \", spectrum2_toplot.fields.unit)\n",
    "        print(\"new x axis: \")\n",
    "        print(spectrum2_toplot.array[field.name])\n",
    "        print(\" \")\n"
   ]
  },
  {
   "cell_type": "markdown",
   "id": "8fdaac82",
   "metadata": {},
   "source": [
    "## 5. For each spectrum, check to see that the spectral axis grid values bracket the user-specified normalization value."
   ]
  },
  {
   "cell_type": "code",
   "execution_count": 163,
   "id": "ae2ad8d8",
   "metadata": {},
   "outputs": [
    {
     "name": "stdout",
     "output_type": "stream",
     "text": [
      "spectrum1_min, normalization_value, spectrum1_max: 158.19744202337404 24.0 158.41081003963012\n",
      "spectrum2_min, normalization_value, spectrum2_max: 200.81905922048935 24.0 202.54484691083826\n",
      "spectrum3_min, normalization_value, spectrum3_max: 9.954 24.0 36.47\n",
      "spectrum4_min, normalization_value, spectrum4_max: 5.12652 24.0 8.60434\n",
      "spectrum5_min, normalization_value, spectrum5_max: 18.82939 24.0 37.13596\n"
     ]
    }
   ],
   "source": [
    "for field in spectrum1_toplot.fields:\n",
    "    if field.utype == \"spec:Spectrum.Data.SpectralAxis.Value\":\n",
    "        spectrum1_min = min(spectrum1.array[field.name])\n",
    "        spectrum1_max = max(spectrum1.array[field.name])\n",
    "        print(\"spectrum1_min, normalization_value, spectrum1_max:\", spectrum1_min, normalization_value, spectrum1_max)\n",
    "        \n",
    "   \n",
    "for field in spectrum2_toplot.fields:\n",
    "    if field.utype == \"spec:Spectrum.Data.SpectralAxis.Value\":\n",
    "        spectrum2_min = min(spectrum2.array[field.name])\n",
    "        spectrum2_max = max(spectrum2.array[field.name])\n",
    "        print(\"spectrum2_min, normalization_value, spectrum2_max:\", spectrum2_min, normalization_value, spectrum2_max)\n",
    " \n",
    "\n",
    "for field in spectrum3_toplot.fields:\n",
    "    if field.utype == \"spec:Spectrum.Data.SpectralAxis.Value\":\n",
    "        spectrum3_min = min(spectrum3.array[field.name])\n",
    "        spectrum3_max = max(spectrum3.array[field.name])\n",
    "        print(\"spectrum3_min, normalization_value, spectrum3_max:\", spectrum3_min, normalization_value, spectrum3_max)\n",
    "\n",
    "for field in spectrum4_toplot.fields:\n",
    "    if field.utype == \"spec:Spectrum.Data.SpectralAxis.Value\":\n",
    "        spectrum4_min = min(spectrum4.array[field.name])\n",
    "        spectrum4_max = max(spectrum4.array[field.name])\n",
    "        print(\"spectrum4_min, normalization_value, spectrum4_max:\", spectrum4_min, normalization_value, spectrum4_max)\n",
    "\n",
    "for field in spectrum5_toplot.fields:\n",
    "    if field.utype == \"spec:Spectrum.Data.SpectralAxis.Value\":\n",
    "        spectrum5_min = min(spectrum5.array[field.name])\n",
    "        spectrum5_max = max(spectrum5.array[field.name])\n",
    "        print(\"spectrum5_min, normalization_value, spectrum5_max:\", spectrum5_min, normalization_value, spectrum5_max)\n"
   ]
  },
  {
   "cell_type": "markdown",
   "id": "08012758",
   "metadata": {},
   "source": [
    "## 6. Warn the user that only spectra 3 and 5 can be safely interpolated. For these two spectra, interpolate to determine the flux at the user-requested wavelength. Normalize each spectrum so that the flux at the user-requested wavelength is unity."
   ]
  },
  {
   "cell_type": "code",
   "execution_count": 202,
   "id": "cfebc1da",
   "metadata": {},
   "outputs": [],
   "source": [
    "from scipy.interpolate import interp1d\n",
    "import numpy as np\n",
    "import matplotlib.pyplot as plt\n",
    "\n",
    "x3 = spectrum3_toplot.array['lambda']\n",
    "y3 = spectrum3_toplot.array['Y']\n",
    "f3 = interp1d(x3, y3, kind='linear')\n",
    "y3_new = f3(normalization_value)\n",
    "normalization_factor3 = 1.0 / y3_new\n",
    "\n",
    "x5 = spectrum5_toplot.array['wavelength']\n",
    "y5 = spectrum5_toplot.array['flux_density']\n",
    "f5 = interp1d(x5, y5, kind='linear')\n",
    "y5_new = f5(normalization_value)\n",
    "normalization_factor5 = 1.0 / y5_new"
   ]
  },
  {
   "cell_type": "markdown",
   "id": "bf82d430",
   "metadata": {},
   "source": [
    "## 7. Plot the normalized spectra. Note that the spectra cross at x = 24 micron, and the y value at 24 micron is 1. (Ideally, you'd plot each order separately. Not going to bother with that here because Firefly already knows how to do that.)"
   ]
  },
  {
   "cell_type": "code",
   "execution_count": 207,
   "id": "d0b802af",
   "metadata": {},
   "outputs": [
    {
     "data": {
      "image/png": "[encoded data removed]",
      "text/plain": [
       "<Figure size 432x288 with 1 Axes>"
      ]
     },
     "metadata": {
      "needs_background": "light"
     },
     "output_type": "display_data"
    }
   ],
   "source": [
    "plt.plot(x3, y3 * normalization_factor3, 'o', x5, y5 * normalization_factor5, '-')\n",
    "plt.show()"
   ]
  },
  {
   "cell_type": "code",
   "execution_count": null,
   "id": "394b6da3",
   "metadata": {},
   "outputs": [],
   "source": []
  }
 ],
 "metadata": {
  "kernelspec": {
   "display_name": "Python 3",
   "language": "python",
   "name": "python3"
  },
  "language_info": {
   "codemirror_mode": {
    "name": "ipython",
    "version": 3
   },
   "file_extension": ".py",
   "mimetype": "text/x-python",
   "name": "python",
   "nbconvert_exporter": "python",
   "pygments_lexer": "ipython3",
   "version": "3.8.8"
  }
 },
 "nbformat": 4,
 "nbformat_minor": 5
}
